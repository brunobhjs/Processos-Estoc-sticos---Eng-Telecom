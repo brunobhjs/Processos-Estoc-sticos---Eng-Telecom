{
  "nbformat": 4,
  "nbformat_minor": 0,
  "metadata": {
    "colab": {
      "name": "Umjogodedadosbhjs.ipynb",
      "provenance": [],
      "collapsed_sections": [],
      "authorship_tag": "ABX9TyOZ8ZIhoWd6VyzGfV4m6K0A",
      "include_colab_link": true
    },
    "kernelspec": {
      "name": "python3",
      "display_name": "Python 3"
    },
    "language_info": {
      "name": "python"
    }
  },
  "cells": [
    {
      "cell_type": "markdown",
      "metadata": {
        "id": "view-in-github",
        "colab_type": "text"
      },
      "source": [
        "<a href=\"https://colab.research.google.com/github/brunobhjs/Processos-Estoc-sticos---Eng-Telecom/blob/main/Umjogodedadosbhjs.ipynb\" target=\"_parent\"><img src=\"https://colab.research.google.com/assets/colab-badge.svg\" alt=\"Open In Colab\"/></a>"
      ]
    },
    {
      "cell_type": "code",
      "source": [
        "import numpy as np\n",
        "import matplotlib.pyplot as plt\n",
        "import random\n",
        "\n"
      ],
      "metadata": {
        "id": "FtiTssLoqZk6"
      },
      "execution_count": null,
      "outputs": []
    },
    {
      "cell_type": "markdown",
      "source": [
        "Os três dados têm 6 faces e a probabilidade de cada face parar virada para cima é a mesma para todas. Para isso foi utilizada uma matriz que comporta todas as possíveis combinações de faces abrangendo todo o espaço amostral."
      ],
      "metadata": {
        "id": "XwGxTJRyjN1J"
      }
    },
    {
      "cell_type": "code",
      "source": [
        "nfaces = 6\n",
        "\n",
        "nresultados = nfaces*nfaces*nfaces\n",
        "\n",
        "resultados = np.zeros((nresultados,3))\n",
        "\n",
        "for i in range (1,nfaces+1):\n",
        "  for j in range (1,nfaces+1):\n",
        "    for k in range (1,nfaces+1):\n",
        "      resultados [(i-1)*nfaces**2 + (j-1)*nfaces + (k-1), 0] = i \n",
        "      resultados [(i-1)*nfaces**2 + (j-1)*nfaces + (k-1), 1] = j\n",
        "      resultados [(i-1)*nfaces**2 + (j-1)*nfaces + (k-1), 2] = k\n",
        "print(resultados)"
      ],
      "metadata": {
        "colab": {
          "base_uri": "https://localhost:8080/"
        },
        "id": "IuO7yvjEkqN2",
        "outputId": "916abb14-a4bb-435b-9141-88e977eaaa2f"
      },
      "execution_count": null,
      "outputs": [
        {
          "output_type": "stream",
          "name": "stdout",
          "text": [
            "[[1. 1. 1.]\n",
            " [1. 1. 2.]\n",
            " [1. 1. 3.]\n",
            " [1. 1. 4.]\n",
            " [1. 1. 5.]\n",
            " [1. 1. 6.]\n",
            " [1. 2. 1.]\n",
            " [1. 2. 2.]\n",
            " [1. 2. 3.]\n",
            " [1. 2. 4.]\n",
            " [1. 2. 5.]\n",
            " [1. 2. 6.]\n",
            " [1. 3. 1.]\n",
            " [1. 3. 2.]\n",
            " [1. 3. 3.]\n",
            " [1. 3. 4.]\n",
            " [1. 3. 5.]\n",
            " [1. 3. 6.]\n",
            " [1. 4. 1.]\n",
            " [1. 4. 2.]\n",
            " [1. 4. 3.]\n",
            " [1. 4. 4.]\n",
            " [1. 4. 5.]\n",
            " [1. 4. 6.]\n",
            " [1. 5. 1.]\n",
            " [1. 5. 2.]\n",
            " [1. 5. 3.]\n",
            " [1. 5. 4.]\n",
            " [1. 5. 5.]\n",
            " [1. 5. 6.]\n",
            " [1. 6. 1.]\n",
            " [1. 6. 2.]\n",
            " [1. 6. 3.]\n",
            " [1. 6. 4.]\n",
            " [1. 6. 5.]\n",
            " [1. 6. 6.]\n",
            " [2. 1. 1.]\n",
            " [2. 1. 2.]\n",
            " [2. 1. 3.]\n",
            " [2. 1. 4.]\n",
            " [2. 1. 5.]\n",
            " [2. 1. 6.]\n",
            " [2. 2. 1.]\n",
            " [2. 2. 2.]\n",
            " [2. 2. 3.]\n",
            " [2. 2. 4.]\n",
            " [2. 2. 5.]\n",
            " [2. 2. 6.]\n",
            " [2. 3. 1.]\n",
            " [2. 3. 2.]\n",
            " [2. 3. 3.]\n",
            " [2. 3. 4.]\n",
            " [2. 3. 5.]\n",
            " [2. 3. 6.]\n",
            " [2. 4. 1.]\n",
            " [2. 4. 2.]\n",
            " [2. 4. 3.]\n",
            " [2. 4. 4.]\n",
            " [2. 4. 5.]\n",
            " [2. 4. 6.]\n",
            " [2. 5. 1.]\n",
            " [2. 5. 2.]\n",
            " [2. 5. 3.]\n",
            " [2. 5. 4.]\n",
            " [2. 5. 5.]\n",
            " [2. 5. 6.]\n",
            " [2. 6. 1.]\n",
            " [2. 6. 2.]\n",
            " [2. 6. 3.]\n",
            " [2. 6. 4.]\n",
            " [2. 6. 5.]\n",
            " [2. 6. 6.]\n",
            " [3. 1. 1.]\n",
            " [3. 1. 2.]\n",
            " [3. 1. 3.]\n",
            " [3. 1. 4.]\n",
            " [3. 1. 5.]\n",
            " [3. 1. 6.]\n",
            " [3. 2. 1.]\n",
            " [3. 2. 2.]\n",
            " [3. 2. 3.]\n",
            " [3. 2. 4.]\n",
            " [3. 2. 5.]\n",
            " [3. 2. 6.]\n",
            " [3. 3. 1.]\n",
            " [3. 3. 2.]\n",
            " [3. 3. 3.]\n",
            " [3. 3. 4.]\n",
            " [3. 3. 5.]\n",
            " [3. 3. 6.]\n",
            " [3. 4. 1.]\n",
            " [3. 4. 2.]\n",
            " [3. 4. 3.]\n",
            " [3. 4. 4.]\n",
            " [3. 4. 5.]\n",
            " [3. 4. 6.]\n",
            " [3. 5. 1.]\n",
            " [3. 5. 2.]\n",
            " [3. 5. 3.]\n",
            " [3. 5. 4.]\n",
            " [3. 5. 5.]\n",
            " [3. 5. 6.]\n",
            " [3. 6. 1.]\n",
            " [3. 6. 2.]\n",
            " [3. 6. 3.]\n",
            " [3. 6. 4.]\n",
            " [3. 6. 5.]\n",
            " [3. 6. 6.]\n",
            " [4. 1. 1.]\n",
            " [4. 1. 2.]\n",
            " [4. 1. 3.]\n",
            " [4. 1. 4.]\n",
            " [4. 1. 5.]\n",
            " [4. 1. 6.]\n",
            " [4. 2. 1.]\n",
            " [4. 2. 2.]\n",
            " [4. 2. 3.]\n",
            " [4. 2. 4.]\n",
            " [4. 2. 5.]\n",
            " [4. 2. 6.]\n",
            " [4. 3. 1.]\n",
            " [4. 3. 2.]\n",
            " [4. 3. 3.]\n",
            " [4. 3. 4.]\n",
            " [4. 3. 5.]\n",
            " [4. 3. 6.]\n",
            " [4. 4. 1.]\n",
            " [4. 4. 2.]\n",
            " [4. 4. 3.]\n",
            " [4. 4. 4.]\n",
            " [4. 4. 5.]\n",
            " [4. 4. 6.]\n",
            " [4. 5. 1.]\n",
            " [4. 5. 2.]\n",
            " [4. 5. 3.]\n",
            " [4. 5. 4.]\n",
            " [4. 5. 5.]\n",
            " [4. 5. 6.]\n",
            " [4. 6. 1.]\n",
            " [4. 6. 2.]\n",
            " [4. 6. 3.]\n",
            " [4. 6. 4.]\n",
            " [4. 6. 5.]\n",
            " [4. 6. 6.]\n",
            " [5. 1. 1.]\n",
            " [5. 1. 2.]\n",
            " [5. 1. 3.]\n",
            " [5. 1. 4.]\n",
            " [5. 1. 5.]\n",
            " [5. 1. 6.]\n",
            " [5. 2. 1.]\n",
            " [5. 2. 2.]\n",
            " [5. 2. 3.]\n",
            " [5. 2. 4.]\n",
            " [5. 2. 5.]\n",
            " [5. 2. 6.]\n",
            " [5. 3. 1.]\n",
            " [5. 3. 2.]\n",
            " [5. 3. 3.]\n",
            " [5. 3. 4.]\n",
            " [5. 3. 5.]\n",
            " [5. 3. 6.]\n",
            " [5. 4. 1.]\n",
            " [5. 4. 2.]\n",
            " [5. 4. 3.]\n",
            " [5. 4. 4.]\n",
            " [5. 4. 5.]\n",
            " [5. 4. 6.]\n",
            " [5. 5. 1.]\n",
            " [5. 5. 2.]\n",
            " [5. 5. 3.]\n",
            " [5. 5. 4.]\n",
            " [5. 5. 5.]\n",
            " [5. 5. 6.]\n",
            " [5. 6. 1.]\n",
            " [5. 6. 2.]\n",
            " [5. 6. 3.]\n",
            " [5. 6. 4.]\n",
            " [5. 6. 5.]\n",
            " [5. 6. 6.]\n",
            " [6. 1. 1.]\n",
            " [6. 1. 2.]\n",
            " [6. 1. 3.]\n",
            " [6. 1. 4.]\n",
            " [6. 1. 5.]\n",
            " [6. 1. 6.]\n",
            " [6. 2. 1.]\n",
            " [6. 2. 2.]\n",
            " [6. 2. 3.]\n",
            " [6. 2. 4.]\n",
            " [6. 2. 5.]\n",
            " [6. 2. 6.]\n",
            " [6. 3. 1.]\n",
            " [6. 3. 2.]\n",
            " [6. 3. 3.]\n",
            " [6. 3. 4.]\n",
            " [6. 3. 5.]\n",
            " [6. 3. 6.]\n",
            " [6. 4. 1.]\n",
            " [6. 4. 2.]\n",
            " [6. 4. 3.]\n",
            " [6. 4. 4.]\n",
            " [6. 4. 5.]\n",
            " [6. 4. 6.]\n",
            " [6. 5. 1.]\n",
            " [6. 5. 2.]\n",
            " [6. 5. 3.]\n",
            " [6. 5. 4.]\n",
            " [6. 5. 5.]\n",
            " [6. 5. 6.]\n",
            " [6. 6. 1.]\n",
            " [6. 6. 2.]\n",
            " [6. 6. 3.]\n",
            " [6. 6. 4.]\n",
            " [6. 6. 5.]\n",
            " [6. 6. 6.]]\n"
          ]
        }
      ]
    },
    {
      "cell_type": "markdown",
      "source": [
        "Com o espaco amostral escolhido, pode-se observar que somando-se as faces em cada evento, alguns números aparecem com maior frequência e outros com menor."
      ],
      "metadata": {
        "id": "w4epfbP4sH3q"
      }
    },
    {
      "cell_type": "code",
      "source": [
        "sumfaces = np.sum(resultados, axis=1, dtype=int)\n",
        "print(sumfaces)"
      ],
      "metadata": {
        "colab": {
          "base_uri": "https://localhost:8080/"
        },
        "id": "OiOY_3j1q3Ot",
        "outputId": "1179080c-3020-4226-cef6-b1c16fc4d374"
      },
      "execution_count": null,
      "outputs": [
        {
          "output_type": "stream",
          "name": "stdout",
          "text": [
            "[ 3  4  5  6  7  8  4  5  6  7  8  9  5  6  7  8  9 10  6  7  8  9 10 11\n",
            "  7  8  9 10 11 12  8  9 10 11 12 13  4  5  6  7  8  9  5  6  7  8  9 10\n",
            "  6  7  8  9 10 11  7  8  9 10 11 12  8  9 10 11 12 13  9 10 11 12 13 14\n",
            "  5  6  7  8  9 10  6  7  8  9 10 11  7  8  9 10 11 12  8  9 10 11 12 13\n",
            "  9 10 11 12 13 14 10 11 12 13 14 15  6  7  8  9 10 11  7  8  9 10 11 12\n",
            "  8  9 10 11 12 13  9 10 11 12 13 14 10 11 12 13 14 15 11 12 13 14 15 16\n",
            "  7  8  9 10 11 12  8  9 10 11 12 13  9 10 11 12 13 14 10 11 12 13 14 15\n",
            " 11 12 13 14 15 16 12 13 14 15 16 17  8  9 10 11 12 13  9 10 11 12 13 14\n",
            " 10 11 12 13 14 15 11 12 13 14 15 16 12 13 14 15 16 17 13 14 15 16 17 18]\n"
          ]
        }
      ]
    },
    {
      "cell_type": "code",
      "source": [
        "probsumfaces = np.zeros(3*nfaces+1)\n",
        "for i in range(len(sumfaces)):\n",
        "  probsumfaces[sumfaces[i]] = probsumfaces[sumfaces[i]] + 1\n",
        "\n",
        "probsumfaces = probsumfaces/ (nfaces**3)\n",
        "plt.stem(range (len(probsumfaces)),probsumfaces, use_line_collection=True)\n",
        "plt.xlabel('soma das faces')\n",
        "plt.ylabel('probabilidade de ocorrência')\n",
        "plt.xticks(range(len(probsumfaces)))\n",
        "plt.grid('both')\n"
      ],
      "metadata": {
        "colab": {
          "base_uri": "https://localhost:8080/",
          "height": 300
        },
        "id": "4uDMicu8tZMZ",
        "outputId": "88e061ed-3a3f-45d4-cd90-4501bf997b37"
      },
      "execution_count": null,
      "outputs": [
        {
          "output_type": "display_data",
          "data": {
            "text/plain": [
              "<Figure size 432x288 with 1 Axes>"
            ],
            "image/png": "[encoded data removed]"
          },
          "metadata": {
            "needs_background": "light"
          }
        }
      ]
    },
    {
      "cell_type": "markdown",
      "source": [
        "Analisando as probabilidades dos eventos teóricos e simulados, percebe-seque os resultados são muito próximos do previsto."
      ],
      "metadata": {
        "id": "mE0enMFf90AD"
      }
    },
    {
      "cell_type": "code",
      "source": [
        "nexperimentos = 50000\n",
        "\n",
        "simulacao = np.zeros(3*nfaces+1)\n",
        "for i in range(nexperimentos):\n",
        "\n",
        "  soma = 0\n",
        "  for j in range(3):\n",
        "    soma = soma + random.randint(1,nfaces)\n",
        "  simulacao[soma] = simulacao[soma] +1\n",
        "simulacao = simulacao/nexperimentos"
      ],
      "metadata": {
        "id": "g8xr78UE4me2"
      },
      "execution_count": null,
      "outputs": []
    },
    {
      "cell_type": "code",
      "source": [
        "plt.stem(range(len(probsumfaces)), probsumfaces, use_line_collection=True)\n",
        "plt.scatter(range(len(probsumfaces)), simulacao, c='r')\n",
        "\n",
        "plt.xlabel('soma das faces')\n",
        "plt.ylabel('probabilidade de ocorrência')\n",
        "plt.xticks(range(len(probsumfaces)))\n",
        "plt.grid('both')"
      ],
      "metadata": {
        "colab": {
          "base_uri": "https://localhost:8080/",
          "height": 300
        },
        "id": "jpNuThDm6YsY",
        "outputId": "335678ef-1d44-4e39-bd32-bc44887f08b0"
      },
      "execution_count": null,
      "outputs": [
        {
          "output_type": "display_data",
          "data": {
            "text/plain": [
              "<Figure size 432x288 with 1 Axes>"
            ],
            "image/png": "[encoded data removed]"
          },
          "metadata": {
            "needs_background": "light"
          }
        }
      ]
    }
  ]
}
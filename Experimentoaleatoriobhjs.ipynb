{
  "nbformat": 4,
  "nbformat_minor": 0,
  "metadata": {
    "colab": {
      "name": "Experimentoaleatoriobhjs.ipynb",
      "provenance": [],
      "include_colab_link": true
    },
    "kernelspec": {
      "name": "python3",
      "display_name": "Python 3"
    },
    "language_info": {
      "name": "python"
    }
  },
  "cells": [
    {
      "cell_type": "markdown",
      "metadata": {
        "id": "view-in-github",
        "colab_type": "text"
      },
      "source": [
        "<a href=\"https://colab.research.google.com/github/brunobhjs/Processos-Estoc-sticos---Eng-Telecom/blob/main/Experimentoaleatoriobhjs.ipynb\" target=\"_parent\"><img src=\"https://colab.research.google.com/assets/colab-badge.svg\" alt=\"Open In Colab\"/></a>"
      ]
    },
    {
      "cell_type": "code",
      "execution_count": 21,
      "metadata": {
        "id": "0zdq4uM5P6Sd"
      },
      "outputs": [],
      "source": [
        "import numpy as np\n",
        "\n"
      ]
    },
    {
      "cell_type": "code",
      "source": [
        "Total_de_pingos = 1000000"
      ],
      "metadata": {
        "id": "R7u7lmiLTb4_"
      },
      "execution_count": 22,
      "outputs": []
    },
    {
      "cell_type": "code",
      "source": [
        "Pingos_dentro = 0\n",
        "for i in range(Total_de_pingos):\n",
        "  x = np.random.uniform(-1,1)\n",
        "  y = np.random.uniform(-1,1)\n",
        "\n",
        "  if y**2+x**2 <= 1:\n",
        "    Pingos_dentro = Pingos_dentro + 1\n",
        "\n",
        "PI = 4*Pingos_dentro/Total_de_pingos \n"
      ],
      "metadata": {
        "id": "V9rkfI6DbUMj"
      },
      "execution_count": 23,
      "outputs": []
    },
    {
      "cell_type": "code",
      "source": [
        "PI"
      ],
      "metadata": {
        "colab": {
          "base_uri": "https://localhost:8080/"
        },
        "id": "VyXlCyqWeatg",
        "outputId": "8b34033c-f0c1-4a7c-c63b-bdfb7481dbf6"
      },
      "execution_count": 24,
      "outputs": [
        {
          "output_type": "execute_result",
          "data": {
            "text/plain": [
              "3.14272"
            ]
          },
          "metadata": {},
          "execution_count": 24
        }
      ]
    }
  ]
}
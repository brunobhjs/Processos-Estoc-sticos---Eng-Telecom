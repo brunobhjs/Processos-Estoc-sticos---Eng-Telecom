{
  "nbformat": 4,
  "nbformat_minor": 0,
  "metadata": {
    "colab": {
      "name": "Experimentoaleatoriobhjs.ipynb",
      "provenance": [],
      "authorship_tag": "ABX9TyM5w4ag40FaJ6xxvvzxHuwp",
      "include_colab_link": true
    },
    "kernelspec": {
      "name": "python3",
      "display_name": "Python 3"
    },
    "language_info": {
      "name": "python"
    }
  },
  "cells": [
    {
      "cell_type": "markdown",
      "metadata": {
        "id": "view-in-github",
        "colab_type": "text"
      },
      "source": [
        "<a href=\"https://colab.research.google.com/github/brunobhjs/Processos-Estoc-sticos---Eng-Telecom/blob/main/Experimentoaleatoriobhjs.ipynb\" target=\"_parent\"><img src=\"https://colab.research.google.com/assets/colab-badge.svg\" alt=\"Open In Colab\"/></a>"
      ]
    },
    {
      "cell_type": "code",
      "execution_count": 102,
      "metadata": {
        "id": "0zdq4uM5P6Sd"
      },
      "outputs": [],
      "source": [
        "import numpy as np\n",
        "\n"
      ]
    },
    {
      "cell_type": "code",
      "source": [
        "Total_de_pingos = 10000"
      ],
      "metadata": {
        "id": "R7u7lmiLTb4_"
      },
      "execution_count": 103,
      "outputs": []
    },
    {
      "cell_type": "code",
      "source": [
        "Pingos_dentro = 0\n",
        "for i in range(Total_de_pingos):\n",
        "  x = np.random.uniform(-1,1)\n",
        "  y = np.random.uniform(-1,1)\n",
        "\n",
        "  if y**2+x**2 <= 1:\n",
        "    Pingos_dentro = Pingos_dentro + 1\n",
        "\n",
        "PI = 4*Pingos_dentro/Total_de_pingos \n"
      ],
      "metadata": {
        "id": "V9rkfI6DbUMj"
      },
      "execution_count": 104,
      "outputs": []
    },
    {
      "cell_type": "code",
      "source": [
        "print (PI)\n"
      ],
      "metadata": {
        "colab": {
          "base_uri": "https://localhost:8080/"
        },
        "id": "VyXlCyqWeatg",
        "outputId": "23e1705f-a04f-45b5-9084-9fa1c0c0b7fe"
      },
      "execution_count": 105,
      "outputs": [
        {
          "output_type": "stream",
          "name": "stdout",
          "text": [
            "3.1436\n"
          ]
        }
      ]
    }
  ]
}
{
  "nbformat": 4,
  "nbformat_minor": 0,
  "metadata": {
    "colab": {
      "name": "experimentoscombinadosbhjs.ipynb",
      "provenance": [],
      "authorship_tag": "ABX9TyOinDbMRLFdvDtl4E1pC0xQ",
      "include_colab_link": true
    },
    "kernelspec": {
      "name": "python3",
      "display_name": "Python 3"
    },
    "language_info": {
      "name": "python"
    }
  },
  "cells": [
    {
      "cell_type": "markdown",
      "metadata": {
        "id": "view-in-github",
        "colab_type": "text"
      },
      "source": [
        "<a href=\"https://colab.research.google.com/github/brunobhjs/Processos-Estoc-sticos---Eng-Telecom/blob/main/experimentoscombinadosbhjs.ipynb\" target=\"_parent\"><img src=\"https://colab.research.google.com/assets/colab-badge.svg\" alt=\"Open In Colab\"/></a>"
      ]
    },
    {
      "cell_type": "code",
      "execution_count": 4,
      "metadata": {
        "id": "hnzwE-CGvNKj"
      },
      "outputs": [],
      "source": [
        "import numpy as np\n"
      ]
    },
    {
      "cell_type": "code",
      "source": [
        "amostras = 500000\n",
        "\n",
        "x = 3.0*np.random.binomial(size=amostras, n=1, p= 0.5)\n",
        "r = np.random.uniform(-1.2,1.2,amostras)\n",
        "y = x+r\n",
        "\n",
        "erros = 0\n",
        "for i in range(amostras):\n",
        "  if x[i] ==0:\n",
        "    if y[i] > 0.8:\n",
        "      erros = erros+1\n",
        "  else:\n",
        "    if y[i] < 2.0:\n",
        "      erros = erros+1\n",
        "\n",
        "print(erros/amostras)\n"
      ],
      "metadata": {
        "colab": {
          "base_uri": "https://localhost:8080/"
        },
        "id": "5Nn3FsCTyFLX",
        "outputId": "2cab0938-2a77-4f4d-8c88-6fba5b53c249"
      },
      "execution_count": 5,
      "outputs": [
        {
          "output_type": "stream",
          "name": "stdout",
          "text": [
            "0.125152\n"
          ]
        }
      ]
    }
  ]
}